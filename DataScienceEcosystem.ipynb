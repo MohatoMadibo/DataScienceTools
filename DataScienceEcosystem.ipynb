{
 "cells": [
  {
   "cell_type": "markdown",
   "id": "f9fe944c-7a7c-4e0c-9f0a-cdb97dc9c53c",
   "metadata": {},
   "source": [
    "# Data Science Tools and Ecosystem"
   ]
  },
  {
   "cell_type": "markdown",
   "id": "3d806ee5-e083-4fbc-9a9e-dd7e083cacf3",
   "metadata": {},
   "source": [
    "In this notebook, Data Science Tools and Ecosystem are summarized"
   ]
  },
  {
   "cell_type": "markdown",
   "id": "18a6573b-7248-400a-8b98-bf643b31281f",
   "metadata": {},
   "source": [
    "# Objectives\n",
    "\n",
    "- Popular Languages used in Data Science\n",
    "- Commonly used Libraries in Data Science\n",
    "- Arithmetic Expressions"
   ]
  },
  {
   "cell_type": "markdown",
   "id": "cd87fcee-e66f-4158-b112-d168ba5c4500",
   "metadata": {},
   "source": [
    "Some of the popular languages that Data Scientists use are:\n",
    "\n",
    "1. Python\n",
    "2. R\n",
    "3. Julia\n",
    "4. Swift"
   ]
  },
  {
   "cell_type": "markdown",
   "id": "3a47fe89-42ec-406c-9c19-9797aae7d0b7",
   "metadata": {},
   "source": [
    "Some of the commonly used libraries by Data Scientists are:\n",
    "\n",
    "1. Numpy\n",
    "2. Matplotlib\n",
    "3. Tensorflow\n",
    "4. Pandas"
   ]
  },
  {
   "cell_type": "markdown",
   "id": "08709f83-661b-4909-a79b-2b18991d9c7a",
   "metadata": {},
   "source": [
    "## Table"
   ]
  },
  {
   "cell_type": "markdown",
   "id": "b9098368-50a9-4d62-9ff4-b336364451b3",
   "metadata": {},
   "source": []
  },
  {
   "cell_type": "markdown",
   "id": "7a1ff3ed-6e8e-4b67-a198-9dc5f4efd18d",
   "metadata": {},
   "source": [
    "### Below are a few examples of evaluating arithmetic expressions in Python"
   ]
  },
  {
   "cell_type": "code",
   "execution_count": 1,
   "id": "fe1e8c3b-75c2-4316-9789-cbc5fb724755",
   "metadata": {},
   "outputs": [
    {
     "data": {
      "text/plain": [
       "17"
      ]
     },
     "execution_count": 1,
     "metadata": {},
     "output_type": "execute_result"
    }
   ],
   "source": [
    "## This is a simple arithmetic expression to multiply then add integers\n",
    "\n",
    "(3*4) + 5"
   ]
  },
  {
   "cell_type": "code",
   "execution_count": 2,
   "id": "811c0566-ec3d-4726-b70d-76a7c9665ce0",
   "metadata": {},
   "outputs": [
    {
     "data": {
      "text/plain": [
       "3.3333333333333335"
      ]
     },
     "execution_count": 2,
     "metadata": {},
     "output_type": "execute_result"
    }
   ],
   "source": [
    "## This will convert 200 minutes to hours by dividing by 60\n",
    "\n",
    "200/60"
   ]
  },
  {
   "cell_type": "markdown",
   "id": "08585783-f4c1-4911-9fe7-53ce35c56385",
   "metadata": {},
   "source": [
    "## Author\n",
    "\n",
    "Name: Mohato Madibo"
   ]
  },
  {
   "cell_type": "code",
   "execution_count": null,
   "id": "9c603af1-51cc-4dcb-9a7e-29d329ee379e",
   "metadata": {},
   "outputs": [],
   "source": []
  }
 ],
 "metadata": {
  "kernelspec": {
   "display_name": "Python 3 (ipykernel)",
   "language": "python",
   "name": "python3"
  },
  "language_info": {
   "codemirror_mode": {
    "name": "ipython",
    "version": 3
   },
   "file_extension": ".py",
   "mimetype": "text/x-python",
   "name": "python",
   "nbconvert_exporter": "python",
   "pygments_lexer": "ipython3",
   "version": "3.12.8"
  }
 },
 "nbformat": 4,
 "nbformat_minor": 5
}
